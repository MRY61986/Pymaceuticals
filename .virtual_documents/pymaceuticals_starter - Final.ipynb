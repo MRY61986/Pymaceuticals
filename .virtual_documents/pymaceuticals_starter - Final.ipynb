


# Dependencies and Setup
import matplotlib.pyplot as plt
import pandas as pd
import scipy.stats as st

# Study data files
mouse_metadata_path = "data/Mouse_metadata.csv"
study_results_path = "data/Study_results.csv"

# Read the mouse data and the study results
mouse_metadata = pd.read_csv(mouse_metadata_path)
study_results = pd.read_csv(study_results_path)

# Combine the data into a single DataFrame
combined_data = pd.merge(study_results, mouse_metadata, on="Mouse ID")

# Display the data table for preview
combined_data.head(5)


# Checking the number of mice.
mice_count = combined_data['Mouse ID'].nunique()
mice_count


# Our data should be uniquely identified by Mouse ID and Timepoint
# Get the duplicate mice by ID number that shows up for Mouse ID and Timepoint.
duplicate_mice = combined_data[combined_data.duplicated(subset=['Mouse ID', 'Timepoint'], keep=False)]
duplicate_mice_ids = duplicate_mice['Mouse ID'].unique()
duplicate_mice_ids




# Optional: Get all the data for the duplicate mouse ID.
duplicate_mouse_data = combined_data[combined_data['Mouse ID'] == 'g989']
duplicate_mouse_data



# Create a clean DataFrame by dropping the duplicate mouse by its ID.
clean_data = combined_data[combined_data['Mouse ID'] != 'g989']
clean_data.head()



# Checking the number of mice in the clean DataFrame.
clean_mouse_count = clean_data['Mouse ID'].nunique()
clean_mouse_count






# Generate a summary statistics table of mean, median, variance, standard deviation, and SEM of the tumor volume for each regimen

# Use groupby and summary statistical methods to calculate the following properties of each drug regimen:
# mean, median, variance, standard deviation, and SEM of the tumor volume.
# Assemble the resulting series into a single summary DataFrame.

summary_stats = combined_data.groupby('Drug Regimen')['Tumor Volume (mm3)'].agg(['mean', 'median', 'var', 'std', 'sem'])
summary_stats



# A more advanced method to generate a summary statistics table of mean, median, variance, standard deviation,
# and SEM of the tumor volume for each regimen (only one method is required in the solution)

# Using the aggregation method, produce the same summary statistics in a single line
agg_summary_stats = combined_data.groupby('Drug Regimen').agg(
    mean=('Tumor Volume (mm3)', 'mean'),
    median=('Tumor Volume (mm3)', 'median'),
    variance=('Tumor Volume (mm3)', 'var'),
    std=('Tumor Volume (mm3)', 'std'),
    sem=('Tumor Volume (mm3)', 'sem')
)
agg_summary_stats







# Generate a bar plot showing the total number of rows (Mouse ID/Timepoints) for each drug regimen using Pandas.
drug_timepoints = combined_data['Drug Regimen'].value_counts()
drug_timepoints.plot(kind='bar', ylabel='# of Observed Mouse Timepoints')
plt.show()



# Generate a bar plot showing the total number of rows (Mouse ID/Timepoints) for each drug regimen using pyplot.
plt.bar(drug_timepoints.index, drug_timepoints)
plt.ylabel('# of Observed Mouse Timepoints')
plt.xlabel('Drug Regimen')
plt.xticks(rotation=90)
plt.show()



# Generate a pie chart, using Pandas, showing the distribution of unique female versus male mice used in the study.

# Get the unique mice with their gender
gender_distribution = clean_data.drop_duplicates(subset=['Mouse ID'])['Sex'].value_counts()

# Make the pie chart

# Adjusting startangle to rotate
gender_distribution.plot(kind='pie', autopct='%1.1f%%')  

# Keeping the "count" label
plt.ylabel('count') 

# Ensures the pie chart is a perfect circle
plt.axis('equal')  

# Print
plt.show()




# Generate a pie chart, using pyplot, showing the distribution of unique female versus male mice used in the study.

# Get the unique mice with their gender
gender_distribution = clean_data.drop_duplicates(subset=['Mouse ID'])['Sex'].value_counts()

# Make the pie chart using pyplot
plt.pie(gender_distribution, labels=gender_distribution.index, autopct='%1.1f%%')
plt.ylabel('count')  # Keep the count label on the side
plt.axis('equal')  # Ensure the pie chart is a circle
plt.show()







# Calculate the final tumor volume of each mouse across four of the treatment regimens:
# Capomulin, Ramicane, Infubinol, and Ceftamin

# Start by getting the last (greatest) timepoint for each mouse
last_timepoint = clean_data.groupby('Mouse ID')['Timepoint'].max().reset_index()

# Merge this group df with the original DataFrame to get the tumor volume at the last timepoint
final_tumor_volume = pd.merge(last_timepoint, clean_data, on=['Mouse ID', 'Timepoint'], how='left')




# Put treatments into a list for a loop (and later for plot labels)
treatment_list = ['Capomulin', 'Ramicane', 'Infubinol', 'Ceftamin']

# Create empty list to fill with tumor vol data (for plotting)
tumor_vol_data = []

# Loop through each drug in treatment_list
for drug in treatment_list:
    # Locate the rows which contain mice on each drug and get the tumor volumes
    drug_tumor_vol = final_tumor_volume.loc[final_tumor_volume['Drug Regimen'] == drug, 'Tumor Volume (mm3)']
    
    # Append tumor vol data for each drug
    tumor_vol_data.append(drug_tumor_vol)
    
    # Calculate the IQR and quantitatively determine if there are any potential outliers.
    quartiles = drug_tumor_vol.quantile([0.25, 0.5, 0.75])
    lowerq = quartiles[0.25]
    upperq = quartiles[0.75]
    iqr = upperq - lowerq

    lower_bound = lowerq - (1.5 * iqr)
    upper_bound = upperq + (1.5 * iqr)

    # Determine outliers using upper and lower bounds
    outliers = drug_tumor_vol[(drug_tumor_vol < lower_bound) | (drug_tumor_vol > upper_bound)]
    print(f'{drug}\'s potential outliers: {outliers}')




# Generate a box plot that shows the distribution of the tumor volume for each treatment group.
plt.boxplot(tumor_vol_data, 
            tick_labels=treatment_list, 
            flierprops=dict(marker='o', markerfacecolor='r', markersize=12))  # Adjust to match the red circle for outliers

# Set the y-axis label and show the plot
plt.ylabel('Final Tumor Volume (mm3)')
plt.show()







# Generate a line plot of tumor volume vs. time point for a single mouse treated with Capomulin.
capomulin_mouse = clean_data.loc[clean_data['Mouse ID'] == 'l509']

plt.plot(capomulin_mouse['Timepoint'], capomulin_mouse['Tumor Volume (mm3)'])
plt.title('Capomulin treatment of mouse l509')
plt.xlabel('Timepoint (days)')
plt.ylabel('Tumor Volume (mm3)')
plt.show()



# Generate a scatter plot of mouse weight vs. the average observed tumor volume for the entire Capomulin regimen.
capomulin_grouped = clean_data[clean_data['Drug Regimen'] == 'Capomulin'].groupby('Mouse ID').mean(numeric_only=True)

plt.scatter(capomulin_grouped['Weight (g)'], capomulin_grouped['Tumor Volume (mm3)'])
plt.xlabel('Weight (g)')
plt.ylabel('Average Tumor Volume (mm3)')
plt.title('Mouse Weight vs Average Tumor Volume for Capomulin Regimen')
plt.show()







# Calculate the correlation coefficient and a linear regression model
# for mouse weight and average observed tumor volume for the entire Capomulin regimen

from scipy.stats import linregress

# Get the data for the Capomulin regimen, ensuring only numeric columns are selected
capomulin_grouped = clean_data[clean_data['Drug Regimen'] == 'Capomulin'].groupby('Mouse ID').mean(numeric_only=True)

# Perform linear regression
slope, intercept, r_value, p_value, std_err = linregress(capomulin_grouped['Weight (g)'], capomulin_grouped['Tumor Volume (mm3)'])

# Print the correlation coefficient separately
print(f"The correlation between mouse weight and the average tumor volume is {r_value:.2f}")

# Create the scatter plot
plt.scatter(capomulin_grouped['Weight (g)'], capomulin_grouped['Tumor Volume (mm3)'])

# Plot the linear regression line
plt.plot(capomulin_grouped['Weight (g)'], slope * capomulin_grouped['Weight (g)'] + intercept, color='red')

# Add labels and title
plt.xlabel('Weight (g)')
plt.ylabel('Average Tumor Volume (mm3)')

# Display the plot
plt.show()




